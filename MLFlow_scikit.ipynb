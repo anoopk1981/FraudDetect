{
 "cells": [
  {
   "cell_type": "markdown",
   "source": [
    "## ML Flow"
   ],
   "metadata": {
    "collapsed": false,
    "pycharm": {
     "name": "#%% md\n"
    }
   }
  },
  {
   "cell_type": "markdown",
   "source": [
    "##### Import all Dependencies and set global parameters."
   ],
   "metadata": {
    "collapsed": false,
    "pycharm": {
     "name": "#%% md\n"
    }
   }
  },
  {
   "cell_type": "code",
   "execution_count": 52,
   "outputs": [
    {
     "name": "stdout",
     "output_type": "stream",
     "text": [
      "Numpy: 1.23.2\n",
      "Pandas: 1.4.3\n",
      "matplotlib: 3.5.3\n",
      "seaborn: 0.11.2\n",
      "Scikit-Learn: 1.1.2\n",
      "MLFlow: 1.28.0\n"
     ]
    }
   ],
   "source": [
    "import numpy as np\n",
    "import pandas as pd\n",
    "import matplotlib #\n",
    "import matplotlib.pyplot as plt\n",
    "import seaborn as sns\n",
    "import sklearn #\n",
    "from sklearn.linear_model import LogisticRegression\n",
    "from sklearn.model_selection import train_test_split\n",
    "from sklearn.preprocessing import StandardScaler\n",
    "from sklearn.metrics import roc_auc_score, plot_roc_curve, confusion_matrix\n",
    "from sklearn.model_selection import KFold\n",
    "import mlflow\n",
    "import mlflow.sklearn\n",
    "print(\"Numpy: {}\".format(np.__version__))\n",
    "print(\"Pandas: {}\".format(pd.__version__))\n",
    "print(\"matplotlib: {}\".format(matplotlib.__version__))\n",
    "print(\"seaborn: {}\".format(sns.__version__))\n",
    "print(\"Scikit-Learn: {}\".format(sklearn.__version__))\n",
    "print(\"MLFlow: {}\".format(mlflow.__version__))"
   ],
   "metadata": {
    "collapsed": false,
    "pycharm": {
     "name": "#%%\n"
    }
   }
  },
  {
   "cell_type": "markdown",
   "source": [
    "##### Load Data."
   ],
   "metadata": {
    "collapsed": false,
    "pycharm": {
     "name": "#%% md\n"
    }
   }
  },
  {
   "cell_type": "code",
   "execution_count": 53,
   "outputs": [],
   "source": [
    "data_path = \"C:\\\\Users\\\\Anoops\\\\Documents\\\\Study\\\\Capstone\\\\creditcard.csv\"\n",
    "df = pd.read_csv(data_path)\n",
    "df = df.drop(\"Time\", axis=1)"
   ],
   "metadata": {
    "collapsed": false,
    "pycharm": {
     "name": "#%%\n"
    }
   }
  },
  {
   "cell_type": "markdown",
   "source": [
    "###### Loading the data set and dropping the column named Time because it adds very large data values that ultimately don’t have much of a correlation with the column Class. Model performance is boosted slightly simply by dropping the extraneous information."
   ],
   "metadata": {
    "collapsed": false,
    "pycharm": {
     "name": "#%% md\n"
    }
   }
  },
  {
   "cell_type": "code",
   "execution_count": 54,
   "outputs": [
    {
     "data": {
      "text/plain": "         V1        V2        V3        V4        V5        V6        V7  \\\n0 -1.359807 -0.072781  2.536347  1.378155 -0.338321  0.462388  0.239599   \n1  1.191857  0.266151  0.166480  0.448154  0.060018 -0.082361 -0.078803   \n2 -1.358354 -1.340163  1.773209  0.379780 -0.503198  1.800499  0.791461   \n3 -0.966272 -0.185226  1.792993 -0.863291 -0.010309  1.247203  0.237609   \n4 -1.158233  0.877737  1.548718  0.403034 -0.407193  0.095921  0.592941   \n\n         V8        V9       V10  ...       V21       V22       V23       V24  \\\n0  0.098698  0.363787  0.090794  ... -0.018307  0.277838 -0.110474  0.066928   \n1  0.085102 -0.255425 -0.166974  ... -0.225775 -0.638672  0.101288 -0.339846   \n2  0.247676 -1.514654  0.207643  ...  0.247998  0.771679  0.909412 -0.689281   \n3  0.377436 -1.387024 -0.054952  ... -0.108300  0.005274 -0.190321 -1.175575   \n4 -0.270533  0.817739  0.753074  ... -0.009431  0.798278 -0.137458  0.141267   \n\n        V25       V26       V27       V28  Amount  Class  \n0  0.128539 -0.189115  0.133558 -0.021053  149.62      0  \n1  0.167170  0.125895 -0.008983  0.014724    2.69      0  \n2 -0.327642 -0.139097 -0.055353 -0.059752  378.66      0  \n3  0.647376 -0.221929  0.062723  0.061458  123.50      0  \n4 -0.206010  0.502292  0.219422  0.215153   69.99      0  \n\n[5 rows x 30 columns]",
      "text/html": "<div>\n<style scoped>\n    .dataframe tbody tr th:only-of-type {\n        vertical-align: middle;\n    }\n\n    .dataframe tbody tr th {\n        vertical-align: top;\n    }\n\n    .dataframe thead th {\n        text-align: right;\n    }\n</style>\n<table border=\"1\" class=\"dataframe\">\n  <thead>\n    <tr style=\"text-align: right;\">\n      <th></th>\n      <th>V1</th>\n      <th>V2</th>\n      <th>V3</th>\n      <th>V4</th>\n      <th>V5</th>\n      <th>V6</th>\n      <th>V7</th>\n      <th>V8</th>\n      <th>V9</th>\n      <th>V10</th>\n      <th>...</th>\n      <th>V21</th>\n      <th>V22</th>\n      <th>V23</th>\n      <th>V24</th>\n      <th>V25</th>\n      <th>V26</th>\n      <th>V27</th>\n      <th>V28</th>\n      <th>Amount</th>\n      <th>Class</th>\n    </tr>\n  </thead>\n  <tbody>\n    <tr>\n      <th>0</th>\n      <td>-1.359807</td>\n      <td>-0.072781</td>\n      <td>2.536347</td>\n      <td>1.378155</td>\n      <td>-0.338321</td>\n      <td>0.462388</td>\n      <td>0.239599</td>\n      <td>0.098698</td>\n      <td>0.363787</td>\n      <td>0.090794</td>\n      <td>...</td>\n      <td>-0.018307</td>\n      <td>0.277838</td>\n      <td>-0.110474</td>\n      <td>0.066928</td>\n      <td>0.128539</td>\n      <td>-0.189115</td>\n      <td>0.133558</td>\n      <td>-0.021053</td>\n      <td>149.62</td>\n      <td>0</td>\n    </tr>\n    <tr>\n      <th>1</th>\n      <td>1.191857</td>\n      <td>0.266151</td>\n      <td>0.166480</td>\n      <td>0.448154</td>\n      <td>0.060018</td>\n      <td>-0.082361</td>\n      <td>-0.078803</td>\n      <td>0.085102</td>\n      <td>-0.255425</td>\n      <td>-0.166974</td>\n      <td>...</td>\n      <td>-0.225775</td>\n      <td>-0.638672</td>\n      <td>0.101288</td>\n      <td>-0.339846</td>\n      <td>0.167170</td>\n      <td>0.125895</td>\n      <td>-0.008983</td>\n      <td>0.014724</td>\n      <td>2.69</td>\n      <td>0</td>\n    </tr>\n    <tr>\n      <th>2</th>\n      <td>-1.358354</td>\n      <td>-1.340163</td>\n      <td>1.773209</td>\n      <td>0.379780</td>\n      <td>-0.503198</td>\n      <td>1.800499</td>\n      <td>0.791461</td>\n      <td>0.247676</td>\n      <td>-1.514654</td>\n      <td>0.207643</td>\n      <td>...</td>\n      <td>0.247998</td>\n      <td>0.771679</td>\n      <td>0.909412</td>\n      <td>-0.689281</td>\n      <td>-0.327642</td>\n      <td>-0.139097</td>\n      <td>-0.055353</td>\n      <td>-0.059752</td>\n      <td>378.66</td>\n      <td>0</td>\n    </tr>\n    <tr>\n      <th>3</th>\n      <td>-0.966272</td>\n      <td>-0.185226</td>\n      <td>1.792993</td>\n      <td>-0.863291</td>\n      <td>-0.010309</td>\n      <td>1.247203</td>\n      <td>0.237609</td>\n      <td>0.377436</td>\n      <td>-1.387024</td>\n      <td>-0.054952</td>\n      <td>...</td>\n      <td>-0.108300</td>\n      <td>0.005274</td>\n      <td>-0.190321</td>\n      <td>-1.175575</td>\n      <td>0.647376</td>\n      <td>-0.221929</td>\n      <td>0.062723</td>\n      <td>0.061458</td>\n      <td>123.50</td>\n      <td>0</td>\n    </tr>\n    <tr>\n      <th>4</th>\n      <td>-1.158233</td>\n      <td>0.877737</td>\n      <td>1.548718</td>\n      <td>0.403034</td>\n      <td>-0.407193</td>\n      <td>0.095921</td>\n      <td>0.592941</td>\n      <td>-0.270533</td>\n      <td>0.817739</td>\n      <td>0.753074</td>\n      <td>...</td>\n      <td>-0.009431</td>\n      <td>0.798278</td>\n      <td>-0.137458</td>\n      <td>0.141267</td>\n      <td>-0.206010</td>\n      <td>0.502292</td>\n      <td>0.219422</td>\n      <td>0.215153</td>\n      <td>69.99</td>\n      <td>0</td>\n    </tr>\n  </tbody>\n</table>\n<p>5 rows × 30 columns</p>\n</div>"
     },
     "execution_count": 54,
     "metadata": {},
     "output_type": "execute_result"
    }
   ],
   "source": [
    "df.head()"
   ],
   "metadata": {
    "collapsed": false,
    "pycharm": {
     "name": "#%%\n"
    }
   }
  },
  {
   "cell_type": "markdown",
   "source": [
    "##### Split normal points and anomalies."
   ],
   "metadata": {
    "collapsed": false,
    "pycharm": {
     "name": "#%% md\n"
    }
   }
  },
  {
   "cell_type": "code",
   "execution_count": 55,
   "outputs": [],
   "source": [
    "normal = df[df.Class == 0].sample(frac=0.5, random_state=2020).reset_index(drop=True)\n",
    "anomaly = df[df.Class == 1]"
   ],
   "metadata": {
    "collapsed": false,
    "pycharm": {
     "name": "#%%\n"
    }
   }
  },
  {
   "cell_type": "markdown",
   "source": [
    "##### Print respective shapes."
   ],
   "metadata": {
    "collapsed": false,
    "pycharm": {
     "name": "#%% md\n"
    }
   }
  },
  {
   "cell_type": "code",
   "execution_count": 56,
   "outputs": [
    {
     "name": "stdout",
     "output_type": "stream",
     "text": [
      "Normal: (142158, 30)\n",
      "Anomaly: (492, 30)\n"
     ]
    }
   ],
   "source": [
    "print(f\"Normal: {normal.shape}\")\n",
    "print(f\"Anomaly: {anomaly.shape}\")"
   ],
   "metadata": {
    "collapsed": false,
    "pycharm": {
     "name": "#%%\n"
    }
   }
  },
  {
   "cell_type": "markdown",
   "source": [
    "###### Randomly sampling 50% of all the normal data points in the data frame and picking out all of the anomalies from the data frame as separate data frames. Then, we print the shapes of both data sets. As we can see, the normal points massively outnumber the anomaly points."
   ],
   "metadata": {
    "collapsed": false,
    "pycharm": {
     "name": "#%% md\n"
    }
   }
  },
  {
   "cell_type": "code",
   "execution_count": 57,
   "outputs": [],
   "source": [
    "normal_train, normal_test = train_test_split(normal, test_size = 0.2, random_state = 2020)\n",
    "anomaly_train, anomaly_test = train_test_split(anomaly, test_size = 0.2, random_state = 2020)\n",
    "normal_train, normal_validate = train_test_split(normal_train, test_size = 0.25, random_state = 2020)\n",
    "anomaly_train, anomaly_validate = train_test_split(anomaly_train, test_size = 0.25, random_state = 2020)"
   ],
   "metadata": {
    "collapsed": false,
    "pycharm": {
     "name": "#%%\n"
    }
   }
  },
  {
   "cell_type": "markdown",
   "source": [
    "###### Partitioning the normal and anomaly data frames separately into train, test, and validation splits. Initially, 20% of the normal and anomaly points are used as the test split. From the remaining 80% of data, 25% of that train split is used as the validation split, meaning the validation split is 20% of the original data. This leaves the final training split at 60% of the original data. In the end, the train-test-validate split has a 60-20-20 ratio, respectively."
   ],
   "metadata": {
    "collapsed": false,
    "pycharm": {
     "name": "#%% md\n"
    }
   }
  },
  {
   "cell_type": "code",
   "execution_count": 58,
   "outputs": [],
   "source": [
    "x_train = pd.concat((normal_train, anomaly_train))\n",
    "x_test = pd.concat((normal_test, anomaly_test))\n",
    "x_validate = pd.concat((normal_validate, anomaly_validate))\n",
    "y_train = np.array(x_train[\"Class\"])\n",
    "y_test = np.array(x_test[\"Class\"])\n",
    "y_validate = np.array(x_validate[\"Class\"])\n",
    "x_train = x_train.drop(\"Class\", axis=1)\n",
    "x_test = x_test.drop(\"Class\", axis=1)\n",
    "x_validate = x_validate.drop(\"Class\", axis=1)"
   ],
   "metadata": {
    "collapsed": false,
    "pycharm": {
     "name": "#%%\n"
    }
   }
  },
  {
   "cell_type": "markdown",
   "source": [
    "###### Creating the respective x and y splits of the training, testing, and validation sets by concatenating the respective normal and anomaly sets. You drop Class from the x-sets because it would be cheating otherwise to give it the label directly. You are trying to get the model to learn the labels by reading the x-data, not learn how to read the Class column in the x-data."
   ],
   "metadata": {
    "collapsed": false,
    "pycharm": {
     "name": "#%% md\n"
    }
   }
  },
  {
   "cell_type": "markdown",
   "source": [
    "##### Printing out the shapes of the training, testing, and validation sets."
   ],
   "metadata": {
    "collapsed": false,
    "pycharm": {
     "name": "#%% md\n"
    }
   }
  },
  {
   "cell_type": "code",
   "execution_count": 59,
   "outputs": [
    {
     "name": "stdout",
     "output_type": "stream",
     "text": [
      "Training sets:\n",
      "x_train: (85588, 29) \n",
      "y_train: (85588,)\n",
      "\n",
      "Testing sets:\n",
      "x_test: (28531, 29) \n",
      "y_test: (28531,)\n",
      "\n",
      "Validation sets:\n",
      "x_validate: (28531, 29) \n",
      "y_validate: (28531,)\n"
     ]
    }
   ],
   "source": [
    "print(\"Training sets:\\nx_train: {} \\ny_train: {}\".format(x_train.shape, y_train.shape))\n",
    "print(\"\\nTesting sets:\\nx_test: {} \\ny_test: {}\".format(x_test.shape, y_test.shape))\n",
    "print(\"\\nValidation sets:\\nx_validate: {} \\ny_validate: {}\".format(x_validate.shape, y_validate.shape))"
   ],
   "metadata": {
    "collapsed": false,
    "pycharm": {
     "name": "#%%\n"
    }
   }
  },
  {
   "cell_type": "markdown",
   "source": [
    "##### Scale the data."
   ],
   "metadata": {
    "collapsed": false,
    "pycharm": {
     "name": "#%% md\n"
    }
   }
  },
  {
   "cell_type": "code",
   "execution_count": 60,
   "outputs": [],
   "source": [
    "scaler = StandardScaler()\n",
    "scaler.fit(pd.concat((normal, anomaly)).drop(\"Class\", axis=1))\n",
    "x_train = scaler.transform(x_train)\n",
    "x_test = scaler.transform(x_test)\n",
    "x_validate = scaler.transform(x_validate)"
   ],
   "metadata": {
    "collapsed": false,
    "pycharm": {
     "name": "#%%\n"
    }
   }
  },
  {
   "cell_type": "markdown",
   "source": [
    "###### Fitting the scaler on the superset of normal and anomaly points after dropping Class to scale the x-sets."
   ],
   "metadata": {
    "collapsed": false,
    "pycharm": {
     "name": "#%% md\n"
    }
   }
  },
  {
   "cell_type": "markdown",
   "source": [
    "##### Training and Evaluating with ML Flow."
   ],
   "metadata": {
    "collapsed": false,
    "pycharm": {
     "name": "#%% md\n"
    }
   }
  },
  {
   "cell_type": "code",
   "execution_count": 61,
   "outputs": [],
   "source": [
    "def train(sk_model, x_train, y_train):\n",
    "    sk_model = sk_model.fit(x_train, y_train)\n",
    "    train_acc = sk_model.score(x_train, y_train)\n",
    "    mlflow.log_metric(\"train_acc\", train_acc)\n",
    "    print(f\"Train Accuracy: {train_acc:.3%}\")"
   ],
   "metadata": {
    "collapsed": false,
    "pycharm": {
     "name": "#%%\n"
    }
   }
  },
  {
   "cell_type": "markdown",
   "source": [
    "###### Defining the train function to better organize the code. Additionally, you are defining a training accuracy metric that will be logged by MLFlow."
   ],
   "metadata": {
    "collapsed": false,
    "pycharm": {
     "name": "#%% md\n"
    }
   }
  },
  {
   "cell_type": "markdown",
   "source": [
    "###### Above, we are creating a new metric here specifically for the training accuracy so that you can keep track of this metric. Furthermore, you are telling MLFlow to log this metric, so that MLFlow will keep track of this value in each run. When you log multiple runs, you can compare this metric across each of those runs so that you can pick a model with the best AUC score for example."
   ],
   "metadata": {
    "collapsed": false,
    "pycharm": {
     "name": "#%% md\n"
    }
   }
  },
  {
   "cell_type": "markdown",
   "source": [
    "##### Evaluation Function"
   ],
   "metadata": {
    "collapsed": false,
    "pycharm": {
     "name": "#%% md\n"
    }
   }
  },
  {
   "cell_type": "code",
   "execution_count": 62,
   "outputs": [],
   "source": [
    "def evaluate(sk_model, x_test, y_test):\n",
    "    eval_acc = sk_model.score(x_test, y_test)\n",
    "    preds = sk_model.predict(x_test)\n",
    "    auc_score = roc_auc_score(y_test, preds)\n",
    "    mlflow.log_metric(\"eval_acc\", eval_acc)\n",
    "    mlflow.log_metric(\"auc_score\", auc_score)\n",
    "    print(f\"Auc Score: {auc_score:.3%}\")\n",
    "    print(f\"Eval Accuracy: {eval_acc:.3%}\")\n",
    "    roc_plot = plot_roc_curve(sk_model, x_test, y_test, name='Scikit-learn ROC Curve')\n",
    "    plt.savefig(\"sklearn_roc_plot.png\")\n",
    "    plt.show()\n",
    "    plt.clf()\n",
    "    conf_matrix = confusion_matrix(y_test, preds)\n",
    "    ax = sns.heatmap(conf_matrix, annot=True,fmt='g')\n",
    "    ax.invert_xaxis()\n",
    "    ax.invert_yaxis()\n",
    "    plt.ylabel('Actual')\n",
    "    plt.xlabel('Predicted')\n",
    "    plt.title(\"Confusion Matrix\")\n",
    "    plt.savefig(\"sklearn_conf_matrix.png\")\n",
    "    mlflow.log_artifact(\"sklearn_roc_plot.png\")\n",
    "    mlflow.log_artifact(\"sklearn_conf_matrix.png\")"
   ],
   "metadata": {
    "collapsed": false,
    "pycharm": {
     "name": "#%%\n"
    }
   }
  },
  {
   "cell_type": "markdown",
   "source": [
    "###### A function to calculate the evaluation metrics for the AUC score and accuracy. Plots for the confusion matrix and the ROC curve are generated, and both the metrics and the graphs are logged to MLFlow."
   ],
   "metadata": {
    "collapsed": false,
    "pycharm": {
     "name": "#%% md\n"
    }
   }
  },
  {
   "cell_type": "markdown",
   "source": [
    "###### Once again, you have told MLFlow to log two more metrics: the AUC score and the accuracy on the test set.\n",
    "###### Furthermore, you can also tell MLFlow to save the plots generated by matplotlib and by seaborn. With this, you can look at each of the graphs for each training run and do so in a highly organized manner. You must first save these plots, which you do in the same directory. Then, you must tell MLFlow to grab the artifacts to log them."
   ],
   "metadata": {
    "collapsed": false,
    "pycharm": {
     "name": "#%% md\n"
    }
   }
  },
  {
   "cell_type": "markdown",
   "source": [
    "##### Logging and Viewing MLFlow Runs."
   ],
   "metadata": {
    "collapsed": false,
    "pycharm": {
     "name": "#%% md\n"
    }
   }
  },
  {
   "cell_type": "code",
   "execution_count": 63,
   "outputs": [
    {
     "name": "stdout",
     "output_type": "stream",
     "text": [
      "Train Accuracy: 99.893%\n",
      "Auc Score: 85.341%\n",
      "Eval Accuracy: 99.874%\n"
     ]
    },
    {
     "name": "stderr",
     "output_type": "stream",
     "text": [
      "C:\\Users\\Anoops\\PycharmProjects\\Capstone\\venv\\lib\\site-packages\\sklearn\\utils\\deprecation.py:87: FutureWarning: Function plot_roc_curve is deprecated; Function :func:`plot_roc_curve` is deprecated in 1.0 and will be removed in 1.2. Use one of the class methods: :meth:`sklearn.metrics.RocCurveDisplay.from_predictions` or :meth:`sklearn.metrics.RocCurveDisplay.from_estimator`.\n",
      "  warnings.warn(msg, category=FutureWarning)\n"
     ]
    },
    {
     "data": {
      "text/plain": "<Figure size 640x480 with 1 Axes>",
      "image/png": "[encoded data removed]"
     },
     "metadata": {},
     "output_type": "display_data"
    },
    {
     "name": "stdout",
     "output_type": "stream",
     "text": [
      "Model run:  6bd0576920504dee9b0831d4261831d8\n"
     ]
    },
    {
     "data": {
      "text/plain": "<Figure size 640x480 with 2 Axes>",
      "image/png": "[encoded data removed]"
     },
     "metadata": {},
     "output_type": "display_data"
    }
   ],
   "source": [
    "sk_model = LogisticRegression(random_state=None, max_iter=400, solver='newton-cg')\n",
    "mlflow.set_experiment(\"scikit_learn_experiment\")\n",
    "with mlflow.start_run():\n",
    "    train(sk_model, x_train, y_train)\n",
    "    evaluate(sk_model, x_test, y_test)\n",
    "    mlflow.sklearn.log_model(sk_model, \"log_reg_model\")\n",
    "    print(\"Model run: \", mlflow.active_run().info.run_uuid)\n",
    "mlflow.end_run()"
   ],
   "metadata": {
    "collapsed": false,
    "pycharm": {
     "name": "#%%\n"
    }
   }
  },
  {
   "cell_type": "markdown",
   "source": [
    "###### The output of running the MLFlow experiment. Under an MLFlow run context, you are training the model, outputting the graphs from the evaluation function, and logging all the metrics including the model to this run."
   ],
   "metadata": {
    "collapsed": false,
    "pycharm": {
     "name": "#%% md\n"
    }
   }
  },
  {
   "cell_type": "markdown",
   "source": [
    "###### You can see that MLFlow automatically generates a new experiment if it does not already exist, so you can create a new experiment directly from the code. You can also see that the rest of the code basically outputs as usual, except it also prints the run ID of the current MLFlow run just as you specified. You will use this later when you select the specific model that you want to serve. What you will do next is open up the UI MLFlow provides where you can actually look at all the experiments and model runs. Finally, you also log the model itself as an artifact with MLFlow. MLFlow will modularize this code so that it will work with the code provided by MLFlow to support implementations of a variety of MLOps principles."
   ],
   "metadata": {
    "collapsed": false,
    "pycharm": {
     "name": "#%% md\n"
    }
   }
  },
  {
   "cell_type": "markdown",
   "source": [],
   "metadata": {
    "collapsed": false,
    "pycharm": {
     "name": "#%% md\n"
    }
   }
  },
  {
   "cell_type": "markdown",
   "source": [
    "## Model Validation - Parameter Tuning"
   ],
   "metadata": {
    "collapsed": false,
    "pycharm": {
     "name": "#%% md\n"
    }
   }
  },
  {
   "cell_type": "markdown",
   "source": [
    "##### Parameter Tuning – Broad Search"
   ],
   "metadata": {
    "collapsed": false,
    "pycharm": {
     "name": "#%% md\n"
    }
   }
  },
  {
   "cell_type": "code",
   "execution_count": 64,
   "outputs": [],
   "source": [
    "anomaly_weights = [1, 5, 10, 15]\n",
    "num_folds = 5\n",
    "kfold = KFold(n_splits=num_folds, shuffle=True, random_state=2020)"
   ],
   "metadata": {
    "collapsed": false,
    "pycharm": {
     "name": "#%%\n"
    }
   }
  },
  {
   "cell_type": "markdown",
   "source": [
    "##### The code to determine the list of anomaly weights to perform validation over, to determine the number of folds, and to initialize the KFolds generator based on the number of folds."
   ],
   "metadata": {
    "collapsed": false,
    "pycharm": {
     "name": "#%% md\n"
    }
   }
  },
  {
   "cell_type": "code",
   "execution_count": 65,
   "outputs": [
    {
     "name": "stdout",
     "output_type": "stream",
     "text": [
      "----------------------------------------\n",
      "fold 1\n",
      "Anomaly Weight: 1\n",
      "AUC: 0.8\n",
      "eval_acc: 0.9985982127212195\n",
      "----------------------------------------\n",
      "fold 2\n",
      "Anomaly Weight: 1\n",
      "AUC: 0.8568790049001132\n",
      "eval_acc: 0.998422712933754\n",
      "----------------------------------------\n",
      "fold 3\n",
      "Anomaly Weight: 1\n",
      "AUC: 0.8406451922461774\n",
      "eval_acc: 0.9982474588152822\n",
      "----------------------------------------\n",
      "fold 4\n",
      "Anomaly Weight: 1\n",
      "AUC: 0.8682452129973255\n",
      "eval_acc: 0.9987732211706976\n",
      "----------------------------------------\n",
      "fold 5\n",
      "Anomaly Weight: 1\n",
      "AUC: 0.8528532875621686\n",
      "eval_acc: 0.9989484752891693\n",
      "\n",
      "Averages: \n",
      "Accuracy:  0.9985980161860246\n",
      "AUC:  0.8437245395411569\n",
      "Best: \n",
      "Accuracy:  0.9989484752891693\n",
      "AUC:  0.8682452129973255\n",
      "----------------------------------------\n",
      "fold 1\n",
      "Anomaly Weight: 5\n",
      "AUC: 0.8748241603657465\n",
      "eval_acc: 0.9987734361310671\n",
      "----------------------------------------\n",
      "fold 2\n",
      "Anomaly Weight: 5\n",
      "AUC: 0.975398919462244\n",
      "eval_acc: 0.9982474588152822\n",
      "----------------------------------------\n",
      "fold 3\n",
      "Anomaly Weight: 5\n",
      "AUC: 0.9314663169342972\n",
      "eval_acc: 0.9987732211706976\n",
      "----------------------------------------\n",
      "fold 4\n",
      "Anomaly Weight: 5\n",
      "AUC: 0.8943851628367561\n",
      "eval_acc: 0.9985979670522257\n",
      "----------------------------------------\n",
      "fold 5\n",
      "Anomaly Weight: 5\n",
      "AUC: 0.8820013855427915\n",
      "eval_acc: 0.9985979670522257\n",
      "\n",
      "Averages: \n",
      "Accuracy:  0.9985980100442996\n",
      "AUC:  0.9116151890283671\n",
      "Best: \n",
      "Accuracy:  0.9987734361310671\n",
      "AUC:  0.975398919462244\n",
      "----------------------------------------\n",
      "fold 1\n",
      "Anomaly Weight: 10\n",
      "AUC: 0.9243845612801126\n",
      "eval_acc: 0.9982477659015244\n",
      "----------------------------------------\n",
      "fold 2\n",
      "Anomaly Weight: 10\n",
      "AUC: 0.9753109687146626\n",
      "eval_acc: 0.9980722046968104\n",
      "----------------------------------------\n",
      "fold 3\n",
      "Anomaly Weight: 10\n",
      "AUC: 0.9313783507133262\n",
      "eval_acc: 0.9985979670522257\n",
      "----------------------------------------\n",
      "fold 4\n",
      "Anomaly Weight: 10\n",
      "AUC: 0.8943851628367561\n",
      "eval_acc: 0.9985979670522257\n",
      "----------------------------------------\n",
      "fold 5\n",
      "Anomaly Weight: 10\n",
      "AUC: 0.8820013855427915\n",
      "eval_acc: 0.9985979670522257\n",
      "\n",
      "Averages: \n",
      "Accuracy:  0.9984227743510024\n",
      "AUC:  0.9214920858175297\n",
      "Best: \n",
      "Accuracy:  0.9985979670522257\n",
      "AUC:  0.9753109687146626\n",
      "----------------------------------------\n",
      "fold 1\n",
      "Anomaly Weight: 15\n",
      "AUC: 0.9242966414629858\n",
      "eval_acc: 0.9980725424916769\n",
      "----------------------------------------\n",
      "fold 2\n",
      "Anomaly Weight: 15\n",
      "AUC: 0.9751350672194998\n",
      "eval_acc: 0.9977216964598669\n",
      "----------------------------------------\n",
      "fold 3\n",
      "Anomaly Weight: 15\n",
      "AUC: 0.9312903844923551\n",
      "eval_acc: 0.998422712933754\n",
      "----------------------------------------\n",
      "fold 4\n",
      "Anomaly Weight: 15\n",
      "AUC: 0.8940334835682489\n",
      "eval_acc: 0.9978969505783386\n",
      "----------------------------------------\n",
      "fold 5\n",
      "Anomaly Weight: 15\n",
      "AUC: 0.8813861631838532\n",
      "eval_acc: 0.9973711882229233\n",
      "\n",
      "Averages: \n",
      "Accuracy:  0.9978970181373118\n",
      "AUC:  0.9212283479853886\n",
      "Best: \n",
      "Accuracy:  0.998422712933754\n",
      "AUC:  0.9751350672194998\n"
     ]
    }
   ],
   "source": [
    "mlflow.set_experiment(\"sklearn_creditcard_broad_search\")\n",
    "logs = []\n",
    "for f in range(len(anomaly_weights)):\n",
    "    fold = 1\n",
    "    accuracies = []\n",
    "    auc_scores= []\n",
    "    for train, test in kfold.split(x_validate, y_validate):\n",
    "        with mlflow.start_run():\n",
    "            weight = anomaly_weights[f]\n",
    "            mlflow.log_param(\"anomaly_weight\", weight)\n",
    "            class_weights= {\n",
    "                 0: 1,\n",
    "                 1: weight\n",
    "            }\n",
    "            sk_model = LogisticRegression(random_state=None,\n",
    "                                            max_iter=400,\n",
    "                                            solver='newton-cg',\n",
    "                                            class_weight=class_weights).fit(x_validate[train], y_validate[train])\n",
    "\n",
    "            for h in range(40): print('-', end=\"\")\n",
    "            print(f\"\\nfold {fold}\\nAnomaly Weight: {weight}\")\n",
    "            train_acc = sk_model.score(x_validate[train], y_validate[train])\n",
    "            mlflow.log_metric(\"train_acc\", train_acc)\n",
    "            eval_acc = sk_model.score(x_validate[test], y_validate[test])\n",
    "            preds = sk_model.predict(x_validate[test])\n",
    "            mlflow.log_metric(\"eval_acc\", eval_acc)\n",
    "\n",
    "            try:\n",
    "                auc_score = roc_auc_score(y_validate[test], preds)\n",
    "            except:\n",
    "                auc_score = -1\n",
    "\n",
    "            mlflow.log_metric(\"auc_score\", auc_score)\n",
    "            print(\"AUC: {}\\neval_acc: {}\".format(auc_score, eval_acc))\n",
    "            accuracies.append(eval_acc)\n",
    "            auc_scores.append(auc_score)\n",
    "            log = [sk_model, x_validate[test], y_validate[test], preds]\n",
    "            logs.append(log)\n",
    "            mlflow.sklearn.log_model(sk_model, f\"anom_weight_{weight}_fold_{fold}\")\n",
    "            fold = fold + 1\n",
    "            mlflow.end_run()\n",
    "    print(\"\\nAverages: \")\n",
    "    print(\"Accuracy: \", np.mean(accuracies))\n",
    "    print(\"AUC: \", np.mean(auc_scores))\n",
    "    print(\"Best: \")\n",
    "    print(\"Accuracy: \", np.max(accuracies))\n",
    "    print(\"AUC: \", np.max(auc_scores))"
   ],
   "metadata": {
    "collapsed": false,
    "pycharm": {
     "name": "#%%\n"
    }
   }
  },
  {
   "cell_type": "markdown",
   "source": [
    "######  When we run the script, it should log the parameter for the anomaly weight and all of the metrics that you specified for every fold generated."
   ],
   "metadata": {
    "collapsed": false,
    "pycharm": {
     "name": "#%% md\n"
    }
   }
  },
  {
   "cell_type": "markdown",
   "source": [
    "##### ##### Parameter Tuning – Guided Search\n"
   ],
   "metadata": {
    "collapsed": false,
    "pycharm": {
     "name": "#%% md\n"
    }
   }
  },
  {
   "cell_type": "code",
   "execution_count": 66,
   "outputs": [],
   "source": [
    "anomaly_weights = [10, 50, 100, 150, 200]\n",
    "num_folds = 5\n",
    "kfold = KFold(n_splits=num_folds, shuffle=True, random_state=2020)"
   ],
   "metadata": {
    "collapsed": false,
    "pycharm": {
     "name": "#%%\n"
    }
   }
  },
  {
   "cell_type": "code",
   "execution_count": 67,
   "outputs": [
    {
     "name": "stderr",
     "output_type": "stream",
     "text": [
      "2022/08/21 16:46:54 INFO mlflow.tracking.fluent: Experiment with name 'sklearn_creditcard_guided_search' does not exist. Creating a new experiment.\n"
     ]
    },
    {
     "name": "stdout",
     "output_type": "stream",
     "text": [
      "----------------------------------------\n",
      "fold 1\n",
      "Anomaly Weight: 10\n",
      "AUC: 0.9243845612801126\n",
      "eval_acc: 0.9982477659015244\n",
      "----------------------------------------\n",
      "fold 2\n",
      "Anomaly Weight: 10\n",
      "AUC: 0.9753109687146626\n",
      "eval_acc: 0.9980722046968104\n",
      "----------------------------------------\n",
      "fold 3\n",
      "Anomaly Weight: 10\n",
      "AUC: 0.9313783507133262\n",
      "eval_acc: 0.9985979670522257\n",
      "----------------------------------------\n",
      "fold 4\n",
      "Anomaly Weight: 10\n",
      "AUC: 0.8943851628367561\n",
      "eval_acc: 0.9985979670522257\n",
      "----------------------------------------\n",
      "fold 5\n",
      "Anomaly Weight: 10\n",
      "AUC: 0.8820013855427915\n",
      "eval_acc: 0.9985979670522257\n",
      "\n",
      "Averages: \n",
      "Accuracy:  0.9984227743510024\n",
      "AUC:  0.9214920858175297\n",
      "Best: \n",
      "Accuracy:  0.9985979670522257\n",
      "AUC:  0.9753109687146626\n",
      "----------------------------------------\n",
      "fold 1\n",
      "Anomaly Weight: 50\n",
      "AUC: 0.922626164937577\n",
      "eval_acc: 0.9947432977045734\n",
      "----------------------------------------\n",
      "fold 2\n",
      "Anomaly Weight: 50\n",
      "AUC: 0.9734640030154541\n",
      "eval_acc: 0.9943918682089029\n",
      "----------------------------------------\n",
      "fold 3\n",
      "Anomaly Weight: 50\n",
      "AUC: 0.9296190262939033\n",
      "eval_acc: 0.99509288468279\n",
      "----------------------------------------\n",
      "fold 4\n",
      "Anomaly Weight: 50\n",
      "AUC: 0.9183271172480171\n",
      "eval_acc: 0.9940413599719593\n",
      "----------------------------------------\n",
      "fold 5\n",
      "Anomaly Weight: 50\n",
      "AUC: 0.8797162739238779\n",
      "eval_acc: 0.9940413599719593\n",
      "\n",
      "Averages: \n",
      "Accuracy:  0.994462154108037\n",
      "AUC:  0.9247505170837659\n",
      "Best: \n",
      "Accuracy:  0.99509288468279\n",
      "AUC:  0.9734640030154541\n",
      "----------------------------------------\n",
      "fold 1\n",
      "Anomaly Weight: 100\n",
      "AUC: 0.9205160893265342\n",
      "eval_acc: 0.990537935868232\n",
      "----------------------------------------\n",
      "fold 2\n",
      "Anomaly Weight: 100\n",
      "AUC: 0.9951627088830255\n",
      "eval_acc: 0.9903610234840519\n",
      "----------------------------------------\n",
      "fold 3\n",
      "Anomaly Weight: 100\n",
      "AUC: 0.9268920734437976\n",
      "eval_acc: 0.9896600070101648\n",
      "----------------------------------------\n",
      "fold 4\n",
      "Anomaly Weight: 100\n",
      "AUC: 0.9429724301962926\n",
      "eval_acc: 0.9908867858394672\n",
      "----------------------------------------\n",
      "fold 5\n",
      "Anomaly Weight: 100\n",
      "AUC: 0.8777827179386432\n",
      "eval_acc: 0.9901857693655801\n",
      "\n",
      "Averages: \n",
      "Accuracy:  0.9903263043134993\n",
      "AUC:  0.9326652039576586\n",
      "Best: \n",
      "Accuracy:  0.9908867858394672\n",
      "AUC:  0.9951627088830255\n",
      "----------------------------------------\n",
      "fold 1\n",
      "Anomaly Weight: 150\n",
      "AUC: 0.9186697731668719\n",
      "eval_acc: 0.9868582442614333\n",
      "----------------------------------------\n",
      "fold 2\n",
      "Anomaly Weight: 150\n",
      "AUC: 0.9927000879507476\n",
      "eval_acc: 0.985453908166842\n",
      "----------------------------------------\n",
      "fold 3\n",
      "Anomaly Weight: 150\n",
      "AUC: 0.9247808841404901\n",
      "eval_acc: 0.985453908166842\n",
      "----------------------------------------\n",
      "fold 4\n",
      "Anomaly Weight: 150\n",
      "AUC: 0.9411261140366303\n",
      "eval_acc: 0.9872064493515598\n",
      "----------------------------------------\n",
      "fold 5\n",
      "Anomaly Weight: 150\n",
      "AUC: 0.9053488155677106\n",
      "eval_acc: 0.9866806869961444\n",
      "\n",
      "Averages: \n",
      "Accuracy:  0.9863306393885642\n",
      "AUC:  0.93652513497249\n",
      "Best: \n",
      "Accuracy:  0.9872064493515598\n",
      "AUC:  0.9927000879507476\n",
      "----------------------------------------\n",
      "fold 1\n",
      "Anomaly Weight: 200\n",
      "AUC: 0.9427026551784772\n",
      "eval_acc: 0.9851060101629577\n",
      "----------------------------------------\n",
      "fold 2\n",
      "Anomaly Weight: 200\n",
      "AUC: 0.9904133685136324\n",
      "eval_acc: 0.9808973010865756\n",
      "----------------------------------------\n",
      "fold 3\n",
      "Anomaly Weight: 200\n",
      "AUC: 0.9226696948371826\n",
      "eval_acc: 0.9812478093235191\n",
      "----------------------------------------\n",
      "fold 4\n",
      "Anomaly Weight: 200\n",
      "AUC: 0.9391039582427143\n",
      "eval_acc: 0.9831756046267087\n",
      "----------------------------------------\n",
      "fold 5\n",
      "Anomaly Weight: 200\n",
      "AUC: 0.9029758150403772\n",
      "eval_acc: 0.9819488257974063\n",
      "\n",
      "Averages: \n",
      "Accuracy:  0.9824751101994336\n",
      "AUC:  0.9395730983624768\n",
      "Best: \n",
      "Accuracy:  0.9851060101629577\n",
      "AUC:  0.9904133685136324\n"
     ]
    }
   ],
   "source": [
    "mlflow.set_experiment(\"sklearn_creditcard_guided_search\")\n",
    "logs = []\n",
    "for f in range(len(anomaly_weights)):\n",
    "    fold = 1\n",
    "    accuracies = []\n",
    "    auc_scores= []\n",
    "    for train, test in kfold.split(x_validate, y_validate):\n",
    "        with mlflow.start_run():\n",
    "            weight = anomaly_weights[f]\n",
    "            mlflow.log_param(\"anomaly_weight\", weight)\n",
    "            class_weights= {\n",
    "                 0: 1,\n",
    "                 1: weight\n",
    "            }\n",
    "            sk_model = LogisticRegression(random_state=None,\n",
    "                                            max_iter=400,\n",
    "                                            solver='newton-cg',\n",
    "                                            class_weight=class_weights).fit(x_validate[train], y_validate[train])\n",
    "\n",
    "            for h in range(40): print('-', end=\"\")\n",
    "            print(f\"\\nfold {fold}\\nAnomaly Weight: {weight}\")\n",
    "            train_acc = sk_model.score(x_validate[train], y_validate[train])\n",
    "            mlflow.log_metric(\"train_acc\", train_acc)\n",
    "            eval_acc = sk_model.score(x_validate[test], y_validate[test])\n",
    "            preds = sk_model.predict(x_validate[test])\n",
    "            mlflow.log_metric(\"eval_acc\", eval_acc)\n",
    "\n",
    "            try:\n",
    "                auc_score = roc_auc_score(y_validate[test], preds)\n",
    "            except:\n",
    "                auc_score = -1\n",
    "\n",
    "            mlflow.log_metric(\"auc_score\", auc_score)\n",
    "            print(\"AUC: {}\\neval_acc: {}\".format(auc_score, eval_acc))\n",
    "            accuracies.append(eval_acc)\n",
    "            auc_scores.append(auc_score)\n",
    "            log = [sk_model, x_validate[test], y_validate[test], preds]\n",
    "            logs.append(log)\n",
    "            mlflow.sklearn.log_model(sk_model, f\"anom_weight_{weight}_fold_{fold}\")\n",
    "            fold = fold + 1\n",
    "            mlflow.end_run()\n",
    "    print(\"\\nAverages: \")\n",
    "    print(\"Accuracy: \", np.mean(accuracies))\n",
    "    print(\"AUC: \", np.mean(auc_scores))\n",
    "    print(\"Best: \")\n",
    "    print(\"Accuracy: \", np.max(accuracies))\n",
    "    print(\"AUC: \", np.max(auc_scores))"
   ],
   "metadata": {
    "collapsed": false,
    "pycharm": {
     "name": "#%%\n"
    }
   }
  },
  {
   "cell_type": "markdown",
   "source": [],
   "metadata": {
    "collapsed": false,
    "pycharm": {
     "name": "#%% md\n"
    }
   }
  },
  {
   "cell_type": "markdown",
   "source": [],
   "metadata": {
    "collapsed": false,
    "pycharm": {
     "name": "#%% md\n"
    }
   }
  }
 ],
 "metadata": {
  "kernelspec": {
   "display_name": "Python 3",
   "language": "python",
   "name": "python3"
  },
  "language_info": {
   "codemirror_mode": {
    "name": "ipython",
    "version": 2
   },
   "file_extension": ".py",
   "mimetype": "text/x-python",
   "name": "python",
   "nbconvert_exporter": "python",
   "pygments_lexer": "ipython2",
   "version": "2.7.6"
  }
 },
 "nbformat": 4,
 "nbformat_minor": 0
}